{
 "cells": [
  {
   "cell_type": "markdown",
   "metadata": {},
   "source": [
    "# Assignment 1: Regression\n",
    "\n",
    "\n",
    "Name: Karthik Iyer\n"
   ]
  },
  {
   "cell_type": "code",
   "execution_count": 2,
   "metadata": {
    "collapsed": true
   },
   "outputs": [],
   "source": [
    "import matplotlib.pyplot as plt\n",
    "import numpy as np"
   ]
  },
  {
   "cell_type": "markdown",
   "metadata": {},
   "source": [
    "## Problem 1: Linear Regression\n",
    "Implement gradient descent algorithm to solve linear regression problem,\n",
    "$$\\min_x f_{\\text{linear}}(x):=\\frac{1}{2}\\|\\mathbf{F}x - \\mathbf{r}\\|^2 + \\frac{\\lambda}{2}\\|x\\|^2.$$"
   ]
  },
  {
   "cell_type": "code",
   "execution_count": 3,
   "metadata": {
    "collapsed": true
   },
   "outputs": [],
   "source": [
    "# Construct linear regression data\n",
    "import random\n",
    "random.seed(123)\n",
    "sigma = 0.05\n",
    "m_linear = 500\n",
    "n_linear = 100\n",
    "F_linear = np.random.randn(m_linear, n_linear) # m_linear * n_linear size array of N(0,1) random numbers\n",
    "xt_linear = np.random.randn(n_linear) # n_linear normal (0,1) random numbers\n",
    "r_linear = F_linear.dot(xt_linear) + sigma*np.random.randn(m_linear) \n",
    "lambda_linear = 0.01\n"
   ]
  },
  {
   "cell_type": "code",
   "execution_count": 4,
   "metadata": {
    "collapsed": true
   },
   "outputs": [],
   "source": [
    "# Define functions\n",
    "def f_linear(x):\n",
    "    '''input: x - a n_linear dimensional vector;\n",
    "       output: f_linear(x)'''\n",
    "    f = 0.5*np.inner(F_linear.dot(x) - r_linear, F_linear.dot(x) - r_linear) + \\\n",
    "        0.5*lambda_linear*np.inner(x, x)\n",
    "    return f\n",
    "\n",
    "\n",
    "def nabla_f_linear(x):\n",
    "    # Calculate and return gradient\n",
    "    return F_linear.T.dot(F_linear.dot(x) - r_linear) + lambda_linear*x"
   ]
  },
  {
   "cell_type": "code",
   "execution_count": 5,
   "metadata": {
    "collapsed": true
   },
   "outputs": [],
   "source": [
    "from numpy import linalg as LA\n",
    "\n",
    "# initialize variable and parameters\n",
    "x_linear = np.zeros(n_linear)\n",
    "g_linear = nabla_f_linear(x_linear)\n",
    "iterMax = 500\n",
    "tol = 1e-6\n",
    "his_linear = np.zeros(iterMax)\n",
    "beta = LA.norm(F_linear, 2)**2 + lambda_linear \n",
    "err = float('Inf')\n",
    "\n",
    "# Gradient Descent Iteration\n",
    "for noi in range(0, iterMax):\n",
    "    # update convergence information\n",
    "    x_linear = x_linear - g_linear/(beta) # update x\n",
    "    g_linear = nabla_f_linear(x_linear) # update nabla f(x)\n",
    "    \n",
    "    obj = f_linear(x_linear)\n",
    "    err = LA.norm(g_linear, 2)\n",
    "    his_linear[noi] = err\n",
    "    if err < tol:\n",
    "        break\n",
    "\n",
    "his_linear = his_linear[:noi]"
   ]
  },
  {
   "cell_type": "code",
   "execution_count": 6,
   "metadata": {},
   "outputs": [
    {
     "name": "stdout",
     "output_type": "stream",
     "text": [
      "0.0264723400181\n"
     ]
    },
    {
     "data": {
      "image/png": "[encoded data removed]",
      "text/plain": [
       "<matplotlib.figure.Figure at 0x791cc50>"
      ]
     },
     "metadata": {},
     "output_type": "display_data"
    }
   ],
   "source": [
    "# compare result\n",
    "print  LA.norm(xt_linear - x_linear, 2)\n",
    "import matplotlib.pyplot as plt\n",
    "plt.semilogy(his_linear)\n",
    "plt.title(\"Convergence history for linear regression\")\n",
    "plt.xlabel(\"Iteration count\")\n",
    "plt.show()"
   ]
  },
  {
   "cell_type": "markdown",
   "metadata": {},
   "source": [
    "## Problem 2: LASSO\n",
    "Implement proximal gradient descent algorithm to solve LASSO problem,\n",
    "$$\\min_x f_{\\text{lasso}}(x):=\\frac{1}{2}\\|\\mathbf{F}x - \\mathbf{r}\\|^2 + \\lambda\\|x\\|_1.$$"
   ]
  },
  {
   "cell_type": "code",
   "execution_count": 7,
   "metadata": {
    "collapsed": true
   },
   "outputs": [],
   "source": [
    "# Construct LASSO variables\n",
    "random.seed(123)\n",
    "sigma = 0.05\n",
    "m_lasso = 200\n",
    "n_lasso = 500\n",
    "k_lasso = 10\n",
    "\n",
    "F_lasso = np.random.randn(m_lasso, n_lasso)\n",
    "# Note that F_lasso is an underdetermined matrix and only k_lasso number of \n",
    "# predictors matter. It is in situations like these when we add a 1-norm penalty.\n",
    "xt_lasso = np.zeros(n_lasso)\n",
    "for i in np.random.permutation(n_lasso)[:k_lasso]: # randomly make k components {+ 1 or -1}\n",
    "    xt_lasso[i] = random.choice([-1.0, 1.0]) \n",
    "\n",
    "r_lasso = F_lasso.dot(xt_lasso) + sigma*np.random.randn(m_lasso)\n",
    "lambda_lasso = 10.0\n"
   ]
  },
  {
   "cell_type": "code",
   "execution_count": 8,
   "metadata": {
    "collapsed": true
   },
   "outputs": [],
   "source": [
    "# Define functions\n",
    "def f_lasso(x):\n",
    "    return 0.5*np.inner(F_lasso.dot(x) - r_lasso, F_lasso.dot(x)) + lambda_lasso*LA.norm(x, 1)\n",
    "\n",
    "def nabla_f_lasso_smooth(x):\n",
    "    # Calculate and return gradient of the smooth part \n",
    "    return F_lasso.T.dot(F_lasso.dot(x) - r_lasso)\n",
    "\n",
    "\n",
    "def prox_1norm(x, t):\n",
    "    # Compute the prox operator for the 1-norm\n",
    "    # Refer to https://people.eecs.berkeley.edu/~elghaoui/Teaching/EE227A/lecture18.pdf\n",
    "    y = np.zeros(x.shape)\n",
    "    for i in range(len(y)):\n",
    "        if x[i] >= t:\n",
    "            y[i] = x[i] - t\n",
    "        elif x[i] <= -t:\n",
    "            y[i] = x[i] + t\n",
    "        else:\n",
    "            y[i] = 0\n",
    "    return y"
   ]
  },
  {
   "cell_type": "code",
   "execution_count": 9,
   "metadata": {
    "collapsed": true
   },
   "outputs": [],
   "source": [
    "# Proximal Gradient Descent Iteration\n",
    "\n",
    "# initialize variable and parameters\n",
    "x_lasso = np.zeros(n_lasso)\n",
    "x_lasso_old = np.zeros(n_lasso)\n",
    "iterMax = 500\n",
    "tol = 1e-6\n",
    "his_lasso = np.zeros(iterMax)\n",
    "noi = 1\n",
    "err = float('Inf')\n",
    "step_size =  1.0/(LA.norm(F_lasso, 2)*LA.norm(F_lasso,2)) # step size is  1/Beta \n",
    "for noi in range(0, iterMax):\n",
    "    x_lasso_old = x_lasso\n",
    "    \n",
    "    # If h is a non smooth function and f is a smooth function, then\n",
    "    # x_new = prox_{step_size*h}(x_old - step_size*nabla f). \n",
    "    # In our case, h = lambda*||.||_{1}\n",
    "    \n",
    "    g_lasso = nabla_f_lasso_smooth(x_lasso)\n",
    "    x_lasso = prox_1norm(x_lasso - step_size*g_lasso, lambda_lasso*step_size)\n",
    "    \n",
    "    obj = f_lasso(x_lasso)\n",
    "    err = LA.norm(x_lasso - x_lasso_old, 2)\n",
    "    his_lasso[noi] = err\n",
    "    if err < tol:\n",
    "        break\n",
    "his_lasso = his_lasso[:noi]"
   ]
  },
  {
   "cell_type": "code",
   "execution_count": 22,
   "metadata": {},
   "outputs": [
    {
     "data": {
      "image/png": "[encoded data removed]",
      "text/plain": [
       "<matplotlib.figure.Figure at 0xaaf00b8>"
      ]
     },
     "metadata": {},
     "output_type": "display_data"
    }
   ],
   "source": [
    "# plot result\n",
    "#print x_lasso\n",
    "plt.plot(xt_lasso)\n",
    "plt.plot(x_lasso, \"o\")\n",
    "plt.title(\"LASSO result\")\n",
    "plt.show()"
   ]
  },
  {
   "cell_type": "code",
   "execution_count": 23,
   "metadata": {},
   "outputs": [
    {
     "data": {
      "image/png": "[encoded data removed]",
      "text/plain": [
       "<matplotlib.figure.Figure at 0x48d8fd0>"
      ]
     },
     "metadata": {},
     "output_type": "display_data"
    }
   ],
   "source": [
    "# plot convergence history\n",
    "plt.semilogy(his_lasso)\n",
    "plt.title(\"Convergence history for LASSO\")\n",
    "plt.xlabel(\"Iteration count\")\n",
    "plt.show()"
   ]
  },
  {
   "cell_type": "markdown",
   "metadata": {},
   "source": [
    "## Problem 3: Robust Regression\n",
    "Implement proximal gradient descent algorithm to solve robust regression problem,\n",
    "$$\\min_x f_{\\text{robust}}(x):=\\rho_\\kappa\\left(\\mathbf{F}x - \\mathbf{r}\\right) + \\lambda\\|x\\|_1.$$ where \n",
    "$\\rho_{\\kappa}$ is the Huber function. "
   ]
  },
  {
   "cell_type": "code",
   "execution_count": 12,
   "metadata": {
    "collapsed": true
   },
   "outputs": [],
   "source": [
    "# Construct Robust Regression variables\n",
    "random.seed(123)\n",
    "sigma = 0.05\n",
    "m_robust = 200\n",
    "n_robust = 500\n",
    "k_robust = 10\n",
    "F_robust = np.random.randn(m_robust,n_robust)\n",
    "xt_robust = np.zeros(n_robust)\n",
    "\n",
    "for i in np.random.permutation(n_robust)[:k_robust]:\n",
    "    xt_robust[i] = random.choice([-1.0, 1.0]) \n",
    "\n",
    "r_robust = F_robust.dot(xt_robust) + sigma*np.random.randn(m_robust)\n",
    "for i in np.random.permutation(m_robust)[:k_robust]:\n",
    "    r_robust[i] += 5.0*np.random.randn()\n",
    "lambda_robust = 2.0\n",
    "kappa_robust = 0.1"
   ]
  },
  {
   "cell_type": "code",
   "execution_count": 13,
   "metadata": {
    "collapsed": true
   },
   "outputs": [],
   "source": [
    "# Define functions\n",
    "def rho(a):\n",
    "    val = 0.0\n",
    "    for i in range(len(a)):\n",
    "        if a[i] > kappa_robust:\n",
    "            val += kappa_robust*abs(a[i]) - 0.5*kappa_robust*kappa_robust\n",
    "        else:\n",
    "            val += 0.5*a[i]*a[i]\n",
    "    return val\n",
    "\n",
    "def f_robust(x):\n",
    "    return rho(F_robust.dot(x) - r_robust) + lambda_robust*LA.norm(x, 1)\n",
    "\n",
    "\n",
    "def nabla_f_robust_smooth(x):\n",
    "    # Calculate and return gradient of the smooth part\n",
    "    y = F_robust.dot(x) - r_robust\n",
    "    nabla_rho = np.zeros(x.shape)\n",
    "    for i in range(len(y)):\n",
    "        if y[i] > kappa_robust:\n",
    "            nabla_rho[i] = kappa_robust*np.sign(y[i])\n",
    "        else:\n",
    "            nabla_rho[i] = y[i]\n",
    "    return F_robust.T.dot(y)\n"
   ]
  },
  {
   "cell_type": "code",
   "execution_count": 19,
   "metadata": {},
   "outputs": [],
   "source": [
    "# initialize variable and parameters\n",
    "x_robust = np.zeros(n_robust)\n",
    "x_robust_old = np.zeros(n_robust)\n",
    "g_robust = nabla_f_robust_smooth(x_robust)\n",
    "iterMax = 10000\n",
    "tol = 1e-6\n",
    "his_robust = np.zeros(iterMax)\n",
    "step_size =  1.0/(LA.norm(F_robust, 2)*LA.norm(F_robust,2))\n",
    "err = float('Inf')\n",
    "\n",
    "# Proximal Gradient Descent Iteration\n",
    "for noi in range(iterMax):\n",
    "    x_robust_old = x_robust\n",
    "    g_robust = nabla_f_robust_smooth(x_robust)\n",
    "    x_robust = prox_1norm(x_robust - step_size*g_robust, lambda_robust*step_size) \n",
    "    obj = f_robust(x_robust)\n",
    "    err = LA.norm(x_robust - x_robust_old, 2)\n",
    "    his_robust[noi] = err\n",
    "    if err < tol:\n",
    "        break\n",
    "    \n",
    "his_robust = his_robust[:noi]"
   ]
  },
  {
   "cell_type": "code",
   "execution_count": 20,
   "metadata": {},
   "outputs": [
    {
     "data": {
      "image/png": "[encoded data removed]",
      "text/plain": [
       "<matplotlib.figure.Figure at 0x9f7b198>"
      ]
     },
     "metadata": {},
     "output_type": "display_data"
    }
   ],
   "source": [
    "# plot result\n",
    "plt.plot(xt_robust)\n",
    "plt.plot(x_robust, \"o\")\n",
    "plt.title(\"Robust result\")\n",
    "plt.show()"
   ]
  },
  {
   "cell_type": "code",
   "execution_count": 21,
   "metadata": {},
   "outputs": [
    {
     "data": {
      "image/png": "[encoded data removed]",
      "text/plain": [
       "<matplotlib.figure.Figure at 0xa9f8fd0>"
      ]
     },
     "metadata": {},
     "output_type": "display_data"
    }
   ],
   "source": [
    "# plot convergence history\n",
    "plt.semilogy(his_robust)\n",
    "plt.title(\"Convergence history for Robust\")\n",
    "plt.xlabel(\"Iteration count\")\n",
    "plt.show()"
   ]
  },
  {
   "cell_type": "code",
   "execution_count": 24,
   "metadata": {},
   "outputs": [
    {
     "name": "stdout",
     "output_type": "stream",
     "text": [
      "9999\n"
     ]
    }
   ],
   "source": [
    "print len(his_robust)"
   ]
  },
  {
   "cell_type": "markdown",
   "metadata": {},
   "source": [
    "## Problem 4: Logistic Regression\n",
    "Fill in the blanks to implement proximal gradient descent algorithm to solve logistic regression problem,\n",
    "$$\\min_x f_{\\text{logistic}}(x):= \\sum_{i=1}^m\\left\\{\\log\\left(1+\\exp{\\left\\langle f^i, x\\right\\rangle}\\right) - s^i\\left\\langle f^i,x\\right\\rangle\\right\\} + \\frac{\\lambda}{2}\\|x\\|^2$$\n",
    "where $s^i\\in\\{0,1\\}$ indicate the buy or sell.\n",
    "\n",
    "For this problem we will use real data come from [Numerai](https://numer.ai/leaderboard).\n",
    "The data set consist of three parts, train data, validation data and test data."
   ]
  },
  {
   "cell_type": "code",
   "execution_count": 25,
   "metadata": {
    "collapsed": true
   },
   "outputs": [],
   "source": [
    "# function that reada data\n",
    "def readdata(filename, datatype):\n",
    "    fid = open(filename, \"rb\")\n",
    "    data = np.fromfile(fid, datatype)\n",
    "    fid.close()\n",
    "    return data"
   ]
  },
  {
   "cell_type": "code",
   "execution_count": 26,
   "metadata": {
    "collapsed": true
   },
   "outputs": [],
   "source": [
    "n_features = 50\n",
    "m_train = 2000\n",
    "m_validate = 500\n",
    "m_test = 500\n",
    "\n",
    "#C:\\Users\\mathuser\\Desktop\\ML1\n",
    "train_features = readdata(\"train_features.bin\", np.float64) # size is m_train*n_features"
   ]
  },
  {
   "cell_type": "code",
   "execution_count": 27,
   "metadata": {
    "collapsed": true
   },
   "outputs": [],
   "source": [
    "train_target = readdata(\"train_target.bin\", np.float64) # size is m_train\n",
    "validate_features = readdata(\"validate_features.bin\", np.float64) # size is m_validate*n_features\n",
    "validate_target = readdata(\"validate_target.bin\", np.float64) # size is m_validate\n",
    "test_features = readdata(\"test_features.bin\", np.float64) # size is m_test*n_features\n",
    "test_target = readdata(\"test_target.bin\",np.float64) # size is m_test\n",
    "\n",
    "train_features = np.reshape(train_features, (m_train, n_features))\n",
    "validate_features = np.reshape(validate_features, (m_validate, n_features))\n",
    "test_features = np.reshape(test_features, (m_test, n_features))"
   ]
  },
  {
   "cell_type": "markdown",
   "metadata": {},
   "source": [
    "### Train and Validate Data\n",
    "Do regression on training data with different $\\lambda$, and test it on the validation data set. Pick the $\\lambda$ that has the smallest error."
   ]
  },
  {
   "cell_type": "code",
   "execution_count": 28,
   "metadata": {
    "collapsed": true
   },
   "outputs": [],
   "source": [
    "# Define functions\n",
    "\n",
    "def f_logistic(x, lambda_logistic):\n",
    "    r = train_features.dot(x)\n",
    "    return np.sum(np.log(1.0 + np.exp(r))) - np.inner(train_target, r) + 0.5*lambda_logistic*LA.norm(x,2)*LA.norm(x,2)\n",
    "\n",
    "\n",
    "def nabla_f_logistic(x, lambda_logistic):\n",
    "    r = train_features.dot(x)\n",
    "    g = train_features.T.dot((1.0/(1.0 + np.exp(-r))) - train_target) + lambda_logistic*x\n",
    "    return g"
   ]
  },
  {
   "cell_type": "code",
   "execution_count": 29,
   "metadata": {
    "collapsed": true
   },
   "outputs": [],
   "source": [
    "# build solver function\n",
    "def logistic_solver(x, lambda_logistic):\n",
    "    \n",
    "    # initialize variable and parameters\n",
    "    stepsize = 1.0/(LA.norm(train_features, 2)**2 + lambda_logistic) # stepsize = 1/beta for grad descent\n",
    "\n",
    "    g  = nabla_f_logistic(x, lambda_logistic)\n",
    "    \n",
    "    iterMax = 200000\n",
    "    tol = 1e-6\n",
    "    his = np.zeros(iterMax)\n",
    "\n",
    "    err = float('Inf')\n",
    "    for noi in range(iterMax):\n",
    "        x = x - stepsize*g\n",
    "        g = nabla_f_logistic(x, lambda_logistic)\n",
    "        obj = f_logistic(x, lambda_logistic)\n",
    "        err = LA.norm(g, 2)\n",
    "        his[noi] = obj\n",
    "        if err < tol:\n",
    "            break\n",
    "    his = his[:noi]\n",
    "    return x, his"
   ]
  },
  {
   "cell_type": "code",
   "execution_count": 32,
   "metadata": {
    "collapsed": true
   },
   "outputs": [],
   "source": [
    "# predict accuracy\n",
    "def predErr(features, target, x):\n",
    "    r = features.dot(x)\n",
    "    val = 0.0\n",
    "    for i in range(len(r)):\n",
    "        if (r[i] > 0.0 and target[i] == 0.0):\n",
    "            val += 1\n",
    "        if (r[i] < 0.0 and target[i] == 1.0):\n",
    "            val += 1\n",
    "    return val/len(r)\n"
   ]
  },
  {
   "cell_type": "code",
   "execution_count": 33,
   "metadata": {
    "collapsed": true
   },
   "outputs": [],
   "source": [
    "import copy\n",
    "lambda_logistic_set = [1.4, 1.2, 1.0, 0.8, 0.6, 0.4, 0.2]\n",
    "x_set = np.ones((len(lambda_logistic_set), n_features))\n",
    "validate = np.zeros(len(lambda_logistic_set))\n",
    "for i, lambda_value in enumerate(lambda_logistic_set):\n",
    "    if i > 0 :\n",
    "        x_set[i] = copy.copy(x_set[i-1])\n",
    "    x, his = logistic_solver(x_set[i], lambda_value)\n",
    "    validate[i] = predErr(validate_features, validate_target, x)\n",
    "    x_set[i] = x"
   ]
  },
  {
   "cell_type": "code",
   "execution_count": 34,
   "metadata": {},
   "outputs": [
    {
     "name": "stdout",
     "output_type": "stream",
     "text": [
      "[ 0.508  0.51   0.51   0.514  0.516  0.522  0.528]\n"
     ]
    },
    {
     "data": {
      "text/plain": [
       "1.4"
      ]
     },
     "execution_count": 34,
     "metadata": {},
     "output_type": "execute_result"
    }
   ],
   "source": [
    "print validate\n",
    "idx = np.argmin(validate) # Choose the index with smallest validation prediction error. \n",
    "mval = validate[idx]\n",
    "x = x_set[idx] # Threshold validation met as prediction error is smallest. Exit the training.\n",
    "lambda_logistic_set[idx] # lambda that gives the lowest prediction error"
   ]
  },
  {
   "cell_type": "code",
   "execution_count": 36,
   "metadata": {},
   "outputs": [
    {
     "data": {
      "text/plain": [
       "0.528"
      ]
     },
     "execution_count": 36,
     "metadata": {},
     "output_type": "execute_result"
    }
   ],
   "source": [
    "1 - predErr(test_features, test_target, x) # About 52.8 percent accuracy"
   ]
  },
  {
   "cell_type": "code",
   "execution_count": null,
   "metadata": {
    "collapsed": true
   },
   "outputs": [],
   "source": []
  }
 ],
 "metadata": {
  "kernelspec": {
   "display_name": "Python 2",
   "language": "python",
   "name": "python2"
  },
  "language_info": {
   "codemirror_mode": {
    "name": "ipython",
    "version": 2
   },
   "file_extension": ".py",
   "mimetype": "text/x-python",
   "name": "python",
   "nbconvert_exporter": "python",
   "pygments_lexer": "ipython2",
   "version": "2.7.13"
  }
 },
 "nbformat": 4,
 "nbformat_minor": 2
}
